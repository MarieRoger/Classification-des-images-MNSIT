{
 "cells": [
  {
   "cell_type": "markdown",
   "id": "9fa63b0b",
   "metadata": {},
   "source": [
    "# CLASSIFICATION DES IMAGES  MNIST"
   ]
  },
  {
   "cell_type": "markdown",
   "id": "19264825",
   "metadata": {},
   "source": [
    "## 1. Téléchargement du jeu de données MNIST"
   ]
  },
  {
   "cell_type": "markdown",
   "id": "fc1b3439",
   "metadata": {},
   "source": [
    "Les bibliothèques Python populaires telles que TensorFlow ou Keras offrent la possibilité de télécharger les données directement via une fonction intégrée."
   ]
  },
  {
   "cell_type": "markdown",
   "id": "f24cb56f",
   "metadata": {},
   "source": [
    "### 1.1 Explication des données"
   ]
  },
  {
   "cell_type": "markdown",
   "id": "66fe212b",
   "metadata": {},
   "source": [
    "Le jeu de données MNIST est un ensemble de données standard pour l'entraînement et la validation des modèles de machine learning, particulièrement dans le domaine de la reconnaissance d'images. Il est composé de 60 000 images pour l'entraînement et de 10 000 images pour le test, représentant des chiffres manuscrits de 0 à 9. Chaque image est en niveaux de gris avec une résolution de 28x28 pixels."
   ]
  },
  {
   "cell_type": "code",
   "execution_count": 1,
   "id": "0d07dd14",
   "metadata": {},
   "outputs": [
    {
     "name": "stdout",
     "output_type": "stream",
     "text": [
      "Dimensions des images d'entraînement : (60000, 28, 28)\n",
      "Dimensions des étiquettes d'entraînement : (60000,)\n",
      "Dimensions des images du test : (10000, 28, 28)\n",
      "Dimensions des étiquettes du test : (10000,)\n"
     ]
    }
   ],
   "source": [
    "import tensorflow as tf\n",
    "\n",
    "# Téléchargement des données MNIST\n",
    "(x_train,y_train),(x_test,y_test) = tf.keras.datasets.mnist.load_data()\n",
    "\n",
    "# Vérification des dimensions des jeux de données\n",
    "print(f\"Dimensions des images d'entraînement : {x_train.shape}\")\n",
    "print(f\"Dimensions des étiquettes d'entraînement : {y_train.shape}\")\n",
    "print(f\"Dimensions des images du test : {x_test.shape}\")\n",
    "print(f\"Dimensions des étiquettes du test : {y_test.shape}\")"
   ]
  },
  {
   "cell_type": "markdown",
   "id": "bff3ba63",
   "metadata": {},
   "source": [
    "### 1.2 Visualisation des images de la base de données MNIST"
   ]
  },
  {
   "cell_type": "code",
   "execution_count": 2,
   "id": "861e1e66",
   "metadata": {},
   "outputs": [
    {
     "data": {
      "image/png": "[encoded data removed]",
      "text/plain": [
       "<Figure size 720x288 with 10 Axes>"
      ]
     },
     "metadata": {
      "needs_background": "light"
     },
     "output_type": "display_data"
    }
   ],
   "source": [
    "import matplotlib.pyplot as plt\n",
    "import numpy as np\n",
    "\n",
    "#Nommbres d'images qui seront afficher  \n",
    "nb_images = 10\n",
    "\n",
    "# Sélection des premières images du jeu de données d'entraînement\n",
    "images = x_train[:nb_images]\n",
    "labels = y_train[:nb_images]\n",
    "\n",
    "# Créeation d'une figure pour afficher les images\n",
    "plt.figure(figsize=(10, 4))\n",
    "\n",
    "for i in range(nb_images):\n",
    "    plt.subplot(1, nb_images, i+1) \n",
    "    plt.imshow(images[1].reshape(28,28), cmap ='gray') # Redimensionnement de l'image pour l'affichage\n",
    "    plt.title(f\"Label: {np.argmax(labels[i])}\") # Affichage de l'étiquette\n",
    "    plt.axis('off') # suppression des axes\n",
    "# Affichage toutes les images\n",
    "plt.show()    "
   ]
  },
  {
   "cell_type": "markdown",
   "id": "928cdd87",
   "metadata": {},
   "source": [
    "## 2. Préparation des données"
   ]
  },
  {
   "cell_type": "markdown",
   "id": "61b649c6",
   "metadata": {},
   "source": [
    "La prochaine étape consiste à préparer ces données pour l'entraînement du modèle de classification. Cette préparation inclut la conversion des données brutes en un format utilisable (comme des tableaux NumPy  d'images et de labels), la normalisation des images et la division des données en ensembles d'entraînement et de test."
   ]
  },
  {
   "cell_type": "code",
   "execution_count": 3,
   "id": "65857ca5",
   "metadata": {},
   "outputs": [
    {
     "name": "stdout",
     "output_type": "stream",
     "text": [
      "Nouvelle dimension des images d'entrainement : (60000, 28, 28, 1)\n",
      "Nouvelle dimension des étiquettes d'entrainement : (60000, 10)\n",
      "Nouvelle dimension des images du test : (10000, 28, 28, 1)\n",
      "Nouvelle dimension des images du test : (10000, 10)\n"
     ]
    }
   ],
   "source": [
    "from tensorflow.keras.utils import to_categorical\n",
    "\n",
    "# Redimensionnement des images avec ajout d'une dimension suplémentaire pour les canaux\n",
    "x_train = x_train.reshape(-1, 28, 28, 1)\n",
    "x_test = x_test.reshape(-1, 28, 28, 1)\n",
    "\n",
    "# Normalisation des pixels (de 0-255 à 0-1)\n",
    "x_train = x_train.astype('float32') /255.0\n",
    "x_test = x_test.astype('float32') /255.0\n",
    "\n",
    "# Encodage des étiquettes en one-hot (pour que chaque classe ait sa propre dimension)\n",
    "y_train = to_categorical(y_train, 10)\n",
    "y_test = to_categorical(y_test, 10)\n",
    "\n",
    "#Verification des dimensions des données après prétraitement\n",
    "print(f\"Nouvelle dimension des images d'entrainement : {x_train.shape}\")\n",
    "print(f\"Nouvelle dimension des étiquettes d'entrainement : {y_train.shape}\")\n",
    "print(f\"Nouvelle dimension des images du test : {x_test.shape}\")\n",
    "print(f\"Nouvelle dimension des images du test : {y_test.shape}\")"
   ]
  },
  {
   "cell_type": "markdown",
   "id": "f0d3356c",
   "metadata": {},
   "source": [
    "**Remarques**:\n",
    "\n",
    "**(1) Normalisation des données** : Les valeurs des pixels, qui vont de 0 à 255, sont ramenées à une échelle de 0 à 1. Cela améliore la convergence du modèle.\n",
    "\n",
    "**(2) Encodage des étiquettes** : Les étiquettes des chiffres (0-9) sont converties en encodage one-hot pour les utiliser avec des réseaux de neurones, surtout pour les problèmes de classification."
   ]
  },
  {
   "cell_type": "markdown",
   "id": "4c0945b6",
   "metadata": {},
   "source": [
    "## 3. Modèle de Deep Learning capable de classer les images du jeu de données MNIST "
   ]
  },
  {
   "cell_type": "code",
   "execution_count": 4,
   "id": "4332e875",
   "metadata": {},
   "outputs": [
    {
     "name": "stdout",
     "output_type": "stream",
     "text": [
      "(28, 28, 1)\n"
     ]
    }
   ],
   "source": [
    "# Définition de la dimension des images\n",
    "image_rows = 28\n",
    "image_cols = 28\n",
    "image_shape = (image_rows, image_cols,1)\n",
    "print(image_shape)\n"
   ]
  },
  {
   "cell_type": "markdown",
   "id": "6132d1de",
   "metadata": {},
   "source": [
    "**N.B**:\n",
    "Pour la Classification des images (chiffres) MNIST puisque les images sont en niveaux de gris, c'est pourquoi l'input_shape pour le réseau est défini comme (28, 28, 28), on le définie ainsi comme (28, 28, 1) avec 1 qui représente la coileur grise. "
   ]
  },
  {
   "cell_type": "markdown",
   "id": "db902c5d",
   "metadata": {},
   "source": [
    "### 3.1 Définition du modèle dedeep learning"
   ]
  },
  {
   "cell_type": "code",
   "execution_count": 5,
   "id": "50d47c0c",
   "metadata": {},
   "outputs": [],
   "source": [
    "from tensorflow.keras.models import Sequential\n",
    "from tensorflow.keras.layers import Conv2D, MaxPooling2D, Dropout, Flatten, Dense\n",
    "\n",
    "# Définition du modèle CNN\n",
    "cnn_model = Sequential([\n",
    "    Conv2D(filters=32, kernel_size= 3, activation='relu', input_shape = image_shape),\n",
    "    MaxPooling2D(pool_size=2), # Réduction des dimensions des images (28x28 -> 14x14)\n",
    "    Dropout(0.2), # Dropout pour éviter le surapprentissage\n",
    "    Flatten(), # Conversion des couches en un vecteur 1D\n",
    "    Dense(32, activation = 'relu'), # Couche dense avec 32 neurones\n",
    "    Dense(10, activation = 'softmax') # Sortie avec 10 classes (0-9), softmax pour la classification\n",
    "])\n"
   ]
  },
  {
   "cell_type": "code",
   "execution_count": 6,
   "id": "7934de8e",
   "metadata": {},
   "outputs": [
    {
     "name": "stdout",
     "output_type": "stream",
     "text": [
      "Model: \"sequential\"\n",
      "_________________________________________________________________\n",
      " Layer (type)                Output Shape              Param #   \n",
      "=================================================================\n",
      " conv2d (Conv2D)             (None, 26, 26, 32)        320       \n",
      "                                                                 \n",
      " max_pooling2d (MaxPooling2D  (None, 13, 13, 32)       0         \n",
      " )                                                               \n",
      "                                                                 \n",
      " dropout (Dropout)           (None, 13, 13, 32)        0         \n",
      "                                                                 \n",
      " flatten (Flatten)           (None, 5408)              0         \n",
      "                                                                 \n",
      " dense (Dense)               (None, 32)                173088    \n",
      "                                                                 \n",
      " dense_1 (Dense)             (None, 10)                330       \n",
      "                                                                 \n",
      "=================================================================\n",
      "Total params: 173,738\n",
      "Trainable params: 173,738\n",
      "Non-trainable params: 0\n",
      "_________________________________________________________________\n"
     ]
    }
   ],
   "source": [
    "cnn_model.summary()"
   ]
  },
  {
   "cell_type": "markdown",
   "id": "449b3ff9",
   "metadata": {},
   "source": [
    "**Explication du réseau de neurone**:\n",
    "\n",
    "- Une première couche de convolution (32 filtres, taille de noyau 3x3) pour extraire les caractéristiques des images.Après convolution, l'image devient de dimension 26x26 avec 32 filtres ou canaux.\n",
    "- MaxPooling2D pour réduire les dimensions des images (26x26 → 13x13).\n",
    "- Dropout pour prévenir le surapprentissage en désactivant aléatoirement 20% des neurones durant l'entraînement.\n",
    "- Flatten pour aplatir les données 2D en un vecteur 1D avant de les passer aux couches denses.\n",
    "- Une première couche dense avec 32 neurones pour l'apprentissage des caractéristiques abstraites.\n",
    "- Une couche dense finale avec 10 neurones pour la classification des chiffres (0-9) avec la fonction d'activation softmax."
   ]
  },
  {
   "cell_type": "markdown",
   "id": "14a5edee",
   "metadata": {},
   "source": [
    "### 3.2 Entrainement du modèle"
   ]
  },
  {
   "cell_type": "code",
   "execution_count": 7,
   "id": "d6df0b34",
   "metadata": {},
   "outputs": [
    {
     "name": "stdout",
     "output_type": "stream",
     "text": [
      "Epoch 1/10\n",
      "1875/1875 [==============================] - 44s 22ms/step - loss: 0.2033 - accuracy: 0.9398 - val_loss: 0.0789 - val_accuracy: 0.9752\n",
      "Epoch 2/10\n",
      "1875/1875 [==============================] - 37s 20ms/step - loss: 0.0799 - accuracy: 0.9756 - val_loss: 0.0628 - val_accuracy: 0.9803\n",
      "Epoch 3/10\n",
      "1875/1875 [==============================] - 50s 27ms/step - loss: 0.0603 - accuracy: 0.9815 - val_loss: 0.0612 - val_accuracy: 0.9797\n",
      "Epoch 4/10\n",
      "1875/1875 [==============================] - 39s 21ms/step - loss: 0.0486 - accuracy: 0.9845 - val_loss: 0.0513 - val_accuracy: 0.9822\n",
      "Epoch 5/10\n",
      "1875/1875 [==============================] - 36s 19ms/step - loss: 0.0403 - accuracy: 0.9873 - val_loss: 0.0635 - val_accuracy: 0.9799\n",
      "Epoch 6/10\n",
      "1875/1875 [==============================] - 43s 23ms/step - loss: 0.0321 - accuracy: 0.9895 - val_loss: 0.0458 - val_accuracy: 0.9847\n",
      "Epoch 7/10\n",
      "1875/1875 [==============================] - 57s 30ms/step - loss: 0.0280 - accuracy: 0.9908 - val_loss: 0.0469 - val_accuracy: 0.9844\n",
      "Epoch 8/10\n",
      "1875/1875 [==============================] - 39s 21ms/step - loss: 0.0242 - accuracy: 0.9923 - val_loss: 0.0450 - val_accuracy: 0.9875\n",
      "Epoch 9/10\n",
      "1875/1875 [==============================] - 37s 20ms/step - loss: 0.0206 - accuracy: 0.9930 - val_loss: 0.0498 - val_accuracy: 0.9852\n",
      "Epoch 10/10\n",
      "1875/1875 [==============================] - 38s 20ms/step - loss: 0.0178 - accuracy: 0.9939 - val_loss: 0.0498 - val_accuracy: 0.9859\n"
     ]
    }
   ],
   "source": [
    "# Compilation du modèle\n",
    "cnn_model.compile(optimizer='adam', loss='categorical_crossentropy', metrics=['accuracy'])\n",
    "\n",
    "# Entraînement du modèle\n",
    "history = cnn_model.fit(x_train, y_train, epochs=10, validation_data=(x_test, y_test), batch_size=32)"
   ]
  },
  {
   "cell_type": "markdown",
   "id": "9ffa438b",
   "metadata": {},
   "source": [
    "**Compilation** :\n",
    "- L'optimiseur Adam est utilisé pour la descente de gradient.\n",
    "- La fonction de perte est categorical_crossentropy, adaptée à la classification multi-classes.\n",
    "- L'évaluation se fait sur la base de la précision.\n",
    "\n",
    "**Entraînement** :  10 époques sont utilisées et une taille de batch de 32 pour l'entraînement.\n",
    "Les performances sur les données de test sont mesurées après chaque époque avec validation_data."
   ]
  },
  {
   "cell_type": "markdown",
   "id": "97f9bc2a",
   "metadata": {},
   "source": [
    "###  3.3 Training Accuracy vs Validation Accuracy, et Training Loss vs Validation Loss"
   ]
  },
  {
   "cell_type": "code",
   "execution_count": 8,
   "id": "e53bb7fc",
   "metadata": {},
   "outputs": [
    {
     "data": {
      "image/png": "[encoded data removed]",
      "text/plain": [
       "<Figure size 864x432 with 2 Axes>"
      ]
     },
     "metadata": {
      "needs_background": "light"
     },
     "output_type": "display_data"
    }
   ],
   "source": [
    "# Récupération des données d'historique de l'entraînement\n",
    "accuracy = history.history['accuracy']\n",
    "val_accuracy = history.history['val_accuracy']\n",
    "loss = history.history['loss']\n",
    "val_loss = history.history['val_loss']\n",
    "epochs_range = range(1, len(accuracy) + 1)\n",
    "\n",
    "# Création des graphiques\n",
    "plt.figure(figsize=(12, 6))\n",
    "\n",
    "# Graphique de la précision\n",
    "plt.subplot(1, 2, 1)\n",
    "plt.plot(epochs_range, accuracy, label='Training Accuracy')\n",
    "plt.plot(epochs_range, val_accuracy, label='Validation Accuracy')\n",
    "plt.title('Training and Validation Accuracy')\n",
    "plt.xlabel('Epochs')\n",
    "plt.ylabel('Accuracy')\n",
    "plt.legend()\n",
    "\n",
    "# Graphique de la perte\n",
    "plt.subplot(1, 2, 2)\n",
    "plt.plot(epochs_range, loss, label='Training Loss')\n",
    "plt.plot(epochs_range, val_loss, label='Validation Loss')\n",
    "plt.title('Training and Validation Loss')\n",
    "plt.xlabel('Epochs')\n",
    "plt.ylabel('Loss')\n",
    "plt.legend()\n",
    "\n",
    "plt.tight_layout()\n",
    "plt.show()\n"
   ]
  },
  {
   "cell_type": "markdown",
   "id": "ed7c8ed5",
   "metadata": {},
   "source": [
    "**Interprétation** : \n",
    "- Graphique de la précision \n",
    "\n",
    "Le modèle généralise bien au départ, mais la précision sur les données de validation semble stagner, voire baisser légèrement. Cela pourrait indiquer que le modèle commence à surapprendre (overfitting) après un certain nombre d'époques.\n",
    "- Graphique de la perte\n",
    "\n",
    "La diminution initiale de la perte de validation montre que le modèle apprend bien au début. Cependant, l'augmentation légère vers la fin indique que le modèle commence à surajuster (overfitting) les données d'entraînement, ce qui signifie qu'il devient moins performant sur les nouvelles données (validation) à cause de sa complexité."
   ]
  },
  {
   "cell_type": "markdown",
   "id": "88c06518",
   "metadata": {},
   "source": [
    "## 4. Evaluation du modèle "
   ]
  },
  {
   "cell_type": "code",
   "execution_count": 9,
   "id": "3bdc8adf",
   "metadata": {},
   "outputs": [
    {
     "name": "stdout",
     "output_type": "stream",
     "text": [
      "Test Loss : 0.0498\n",
      "Test Accuracy : 0.9859\n"
     ]
    }
   ],
   "source": [
    "score = cnn_model.evaluate(x_test,y_test,verbose=0)\n",
    "print('Test Loss : {:.4f}'.format(score[0]))\n",
    "print('Test Accuracy : {:.4f}'.format(score[1]))"
   ]
  },
  {
   "cell_type": "code",
   "execution_count": 10,
   "id": "c0ef93b9",
   "metadata": {},
   "outputs": [
    {
     "name": "stdout",
     "output_type": "stream",
     "text": [
      "313/313 [==============================] - 2s 6ms/step\n",
      "Rapport de classification :\n",
      "               precision    recall  f1-score   support\n",
      "\n",
      "           0       0.99      0.99      0.99       980\n",
      "           1       0.99      0.99      0.99      1135\n",
      "           2       0.98      0.99      0.98      1032\n",
      "           3       0.99      0.99      0.99      1010\n",
      "           4       0.99      0.98      0.99       982\n",
      "           5       0.99      0.98      0.98       892\n",
      "           6       0.99      0.99      0.99       958\n",
      "           7       0.99      0.98      0.98      1028\n",
      "           8       0.98      0.98      0.98       974\n",
      "           9       0.98      0.98      0.98      1009\n",
      "\n",
      "    accuracy                           0.99     10000\n",
      "   macro avg       0.99      0.99      0.99     10000\n",
      "weighted avg       0.99      0.99      0.99     10000\n",
      "\n"
     ]
    }
   ],
   "source": [
    "from sklearn.metrics import classification_report\n",
    "\n",
    "# Faire des prédictions sur le jeu de test\n",
    "y_pred = cnn_model.predict(x_test)\n",
    "\n",
    "# Convertion des prédictions et les étiquettes de test du format one-hot à des entiers\n",
    "y_pred_classes = np.argmax(y_pred, axis=1)\n",
    "y_test_classes = np.argmax(y_test, axis=1)\n",
    "\n",
    "# Générer le rapport de classification\n",
    "report = classification_report(y_test_classes, y_pred_classes, target_names=[str(i) for i in range(10)])\n",
    "\n",
    "# Affichage du rapport de classification\n",
    "print(\"Rapport de classification :\\n\", report)"
   ]
  },
  {
   "cell_type": "markdown",
   "id": "01e50cc0",
   "metadata": {},
   "source": [
    "## 5. Analyse des résultats du modèle "
   ]
  },
  {
   "attachments": {},
   "cell_type": "markdown",
   "id": "20bbcf5d",
   "metadata": {},
   "source": [
    "**Analyse des résultats du modèle**: \n",
    "Ce modèle CNN présente une excellente performance avec :\n",
    "\n",
    "- Une précision de 98% sur le jeu de test, ce qui montre qu'il généralise très bien.\n",
    "- Une précision et un rappel élevés pour chaque classe, ce qui signifie que le modèle fait peu d'erreurs de prédiction et est capable de capturer la majorité des exemples de chaque chiffre manuscrit.\n",
    "\n",
    "**Forces du modèle** :\n",
    "1. **Précision élevée** : Le modèle atteint une précision de 98,66 % sur le jeu de test, ce qui est très bon pour une tâche de classification d'images de chiffres manuscrits. \n",
    "2. **Bonne convergence du modèle** : Sur les graphiques \"Training Accuracy vs Validation Accuracy\" et \"Training Loss vs Validation Loss\", on peut observer que l'accuracy (précision) continue d'augmenter au fil des époques pour les ensembles d'entraînement et de validation. De même, la perte diminue progressivement pour les deux ensembles. \n",
    "3. **Architecture simple** : Le modèle utilise une architecture CNN relativement simple, avec seulement une couche de convolution, une couche de pooling, et une couche dense. Cette simplicité permet au modèle d'apprendre efficacement tout en évitant le surapprentissage dans une certaine mesure grâce au dropout (20 %). La simplicité de l'architecture permet également de garder un temps d'entraînement raisonnable.\n",
    "\n",
    "**Faiblesses du modèle** :\n",
    "1. **Le surapprentissage** : Bien que la précision sur le jeu de validation soit proche de celle sur le jeu d'entraînement, il existe un léger écart. Cela pourrait être un signe de léger surapprentissage (overfitting).\n",
    "2. **Classes sous-performantes** : Dans le rapport de classification, bien que les métriques soient globalement excellentes, certaines classes comme le chiffre 9 semblent avoir un score de rappel légèrement plus faible (0,97), ce qui indique que le modèle peut confondre certains échantillons de cette classe avec d'autres chiffres. "
   ]
  },
  {
   "cell_type": "markdown",
   "id": "96d83fbb",
   "metadata": {},
   "source": [
    "## 6. Suggestions d'ammélioration de la classification"
   ]
  },
  {
   "cell_type": "markdown",
   "id": "2e3b1da9",
   "metadata": {},
   "source": [
    "### 6.1  Architectures plus profondes"
   ]
  },
  {
   "cell_type": "code",
   "execution_count": 11,
   "id": "fcf75a48",
   "metadata": {},
   "outputs": [],
   "source": [
    "# Modèle CNN avec plusieurs couches convolutionnelles\n",
    "cnn_model_deep = Sequential([\n",
    "    Conv2D(32, kernel_size=3, activation='relu', input_shape=image_shape),\n",
    "    MaxPooling2D(pool_size=2),\n",
    "    \n",
    "    # Deuxième bloc convolutionnel\n",
    "    Conv2D(64, kernel_size=3, activation='relu'),\n",
    "    MaxPooling2D(pool_size=2),\n",
    "    \n",
    "    # Troisième bloc convolutionnel\n",
    "    Conv2D(128, kernel_size=3, activation='relu'),\n",
    "    MaxPooling2D(pool_size=2),\n",
    "    \n",
    "    Dropout(0.3),  # Augmenter le Dropout pour réduire le surapprentissage\n",
    "    Flatten(),\n",
    "    \n",
    "    Dense(128, activation='relu'),  # Couche dense avec plus de neurones\n",
    "    Dense(10, activation='softmax')  # Sortie à 10 classes\n",
    "])\n"
   ]
  },
  {
   "cell_type": "code",
   "execution_count": 12,
   "id": "7a1d6b7c",
   "metadata": {},
   "outputs": [
    {
     "name": "stdout",
     "output_type": "stream",
     "text": [
      "Model: \"sequential_1\"\n",
      "_________________________________________________________________\n",
      " Layer (type)                Output Shape              Param #   \n",
      "=================================================================\n",
      " conv2d_1 (Conv2D)           (None, 26, 26, 32)        320       \n",
      "                                                                 \n",
      " max_pooling2d_1 (MaxPooling  (None, 13, 13, 32)       0         \n",
      " 2D)                                                             \n",
      "                                                                 \n",
      " conv2d_2 (Conv2D)           (None, 11, 11, 64)        18496     \n",
      "                                                                 \n",
      " max_pooling2d_2 (MaxPooling  (None, 5, 5, 64)         0         \n",
      " 2D)                                                             \n",
      "                                                                 \n",
      " conv2d_3 (Conv2D)           (None, 3, 3, 128)         73856     \n",
      "                                                                 \n",
      " max_pooling2d_3 (MaxPooling  (None, 1, 1, 128)        0         \n",
      " 2D)                                                             \n",
      "                                                                 \n",
      " dropout_1 (Dropout)         (None, 1, 1, 128)         0         \n",
      "                                                                 \n",
      " flatten_1 (Flatten)         (None, 128)               0         \n",
      "                                                                 \n",
      " dense_2 (Dense)             (None, 128)               16512     \n",
      "                                                                 \n",
      " dense_3 (Dense)             (None, 10)                1290      \n",
      "                                                                 \n",
      "=================================================================\n",
      "Total params: 110,474\n",
      "Trainable params: 110,474\n",
      "Non-trainable params: 0\n",
      "_________________________________________________________________\n"
     ]
    }
   ],
   "source": [
    "cnn_model_deep.summary()"
   ]
  },
  {
   "cell_type": "code",
   "execution_count": 13,
   "id": "e5d6285a",
   "metadata": {},
   "outputs": [],
   "source": [
    "# Compilation du modèle\n",
    "cnn_model_deep.compile(optimizer='adam', loss='categorical_crossentropy', metrics=['accuracy'])"
   ]
  },
  {
   "cell_type": "code",
   "execution_count": 14,
   "id": "6d7ba79f",
   "metadata": {},
   "outputs": [
    {
     "name": "stdout",
     "output_type": "stream",
     "text": [
      "Epoch 1/10\n",
      "1875/1875 [==============================] - 80s 42ms/step - loss: 0.2439 - accuracy: 0.9249 - val_loss: 0.0713 - val_accuracy: 0.9788\n",
      "Epoch 2/10\n",
      "1875/1875 [==============================] - 79s 42ms/step - loss: 0.0864 - accuracy: 0.9744 - val_loss: 0.0471 - val_accuracy: 0.9859\n",
      "Epoch 3/10\n",
      "1875/1875 [==============================] - 88s 47ms/step - loss: 0.0661 - accuracy: 0.9803 - val_loss: 0.0534 - val_accuracy: 0.9840\n",
      "Epoch 4/10\n",
      "1875/1875 [==============================] - 83s 44ms/step - loss: 0.0515 - accuracy: 0.9841 - val_loss: 0.0397 - val_accuracy: 0.9889\n",
      "Epoch 5/10\n",
      "1875/1875 [==============================] - 87s 46ms/step - loss: 0.0451 - accuracy: 0.9864 - val_loss: 0.0447 - val_accuracy: 0.9862\n",
      "Epoch 6/10\n",
      "1875/1875 [==============================] - 84s 45ms/step - loss: 0.0372 - accuracy: 0.9882 - val_loss: 0.0422 - val_accuracy: 0.9877\n",
      "Epoch 7/10\n",
      "1875/1875 [==============================] - 78s 42ms/step - loss: 0.0331 - accuracy: 0.9898 - val_loss: 0.0405 - val_accuracy: 0.9885\n",
      "Epoch 8/10\n",
      "1875/1875 [==============================] - 72s 38ms/step - loss: 0.0302 - accuracy: 0.9899 - val_loss: 0.0402 - val_accuracy: 0.9886\n",
      "Epoch 9/10\n",
      "1875/1875 [==============================] - 74s 40ms/step - loss: 0.0258 - accuracy: 0.9921 - val_loss: 0.0391 - val_accuracy: 0.9892\n",
      "Epoch 10/10\n",
      "1875/1875 [==============================] - 81s 43ms/step - loss: 0.0229 - accuracy: 0.9925 - val_loss: 0.0389 - val_accuracy: 0.9898\n"
     ]
    }
   ],
   "source": [
    "# Entraînement du modèle\n",
    "history = cnn_model_deep.fit(x_train, y_train, epochs=10, validation_data=(x_test, y_test), batch_size=32)"
   ]
  },
  {
   "cell_type": "code",
   "execution_count": 15,
   "id": "e8c94eb1",
   "metadata": {},
   "outputs": [
    {
     "data": {
      "image/png": "[encoded data removed]",
      "text/plain": [
       "<Figure size 864x432 with 2 Axes>"
      ]
     },
     "metadata": {
      "needs_background": "light"
     },
     "output_type": "display_data"
    }
   ],
   "source": [
    "# Récupération des données d'historique de l'entraînement\n",
    "accuracy = history.history['accuracy']\n",
    "val_accuracy = history.history['val_accuracy']\n",
    "loss = history.history['loss']\n",
    "val_loss = history.history['val_loss']\n",
    "epochs_range = range(1, len(accuracy) + 1)\n",
    "\n",
    "# Création des graphiques\n",
    "plt.figure(figsize=(12, 6))\n",
    "\n",
    "# Graphique de la précision\n",
    "plt.subplot(1, 2, 1)\n",
    "plt.plot(epochs_range, accuracy, label='Training Accuracy')\n",
    "plt.plot(epochs_range, val_accuracy, label='Validation Accuracy')\n",
    "plt.title('Training and Validation Accuracy')\n",
    "plt.xlabel('Epochs')\n",
    "plt.ylabel('Accuracy')\n",
    "plt.legend()\n",
    "\n",
    "# Graphique de la perte\n",
    "plt.subplot(1, 2, 2)\n",
    "plt.plot(epochs_range, loss, label='Training Loss')\n",
    "plt.plot(epochs_range, val_loss, label='Validation Loss')\n",
    "plt.title('Training and Validation Loss')\n",
    "plt.xlabel('Epochs')\n",
    "plt.ylabel('Loss')\n",
    "plt.legend()\n",
    "\n",
    "plt.tight_layout()\n",
    "plt.show()\n"
   ]
  },
  {
   "cell_type": "code",
   "execution_count": 16,
   "id": "73bb3b11",
   "metadata": {},
   "outputs": [
    {
     "name": "stdout",
     "output_type": "stream",
     "text": [
      "Test Loss : 0.0389\n",
      "Test Accuracy : 0.9898\n"
     ]
    }
   ],
   "source": [
    "score = cnn_model_deep.evaluate(x_test,y_test,verbose=0)\n",
    "print('Test Loss : {:.4f}'.format(score[0]))\n",
    "print('Test Accuracy : {:.4f}'.format(score[1]))"
   ]
  },
  {
   "cell_type": "code",
   "execution_count": 17,
   "id": "7ba67ee8",
   "metadata": {},
   "outputs": [
    {
     "name": "stdout",
     "output_type": "stream",
     "text": [
      "313/313 [==============================] - 5s 15ms/step\n",
      "Rapport de classification :\n",
      "               precision    recall  f1-score   support\n",
      "\n",
      "           0       1.00      0.99      0.99       980\n",
      "           1       0.99      1.00      0.99      1135\n",
      "           2       1.00      0.98      0.99      1032\n",
      "           3       0.99      0.99      0.99      1010\n",
      "           4       0.99      0.99      0.99       982\n",
      "           5       0.98      0.99      0.99       892\n",
      "           6       0.99      0.99      0.99       958\n",
      "           7       0.98      0.99      0.98      1028\n",
      "           8       0.99      0.99      0.99       974\n",
      "           9       0.99      0.99      0.99      1009\n",
      "\n",
      "    accuracy                           0.99     10000\n",
      "   macro avg       0.99      0.99      0.99     10000\n",
      "weighted avg       0.99      0.99      0.99     10000\n",
      "\n"
     ]
    }
   ],
   "source": [
    "# Faire des prédictions sur le jeu de test\n",
    "y_pred_deep = cnn_model_deep.predict(x_test)\n",
    "\n",
    "# Convertion des prédictions et les étiquettes de test du format one-hot à des entiers\n",
    "y_pred_classes = np.argmax(y_pred_deep, axis=1)\n",
    "y_test_classes = np.argmax(y_test, axis=1)\n",
    "\n",
    "# Générer le rapport de classification\n",
    "report = classification_report(y_test_classes, y_pred_classes, target_names=[str(i) for i in range(10)])\n",
    "\n",
    "# Affichage du rapport de classification\n",
    "print(\"Rapport de classification :\\n\", report)"
   ]
  },
  {
   "cell_type": "markdown",
   "id": "f54e85d2",
   "metadata": {},
   "source": [
    "### 6.2 Changement d'optimiseur :  RMSprop avec un Learning Rate Scheduler"
   ]
  },
  {
   "cell_type": "code",
   "execution_count": 18,
   "id": "b7c2aca6",
   "metadata": {},
   "outputs": [],
   "source": [
    "from tensorflow.keras.optimizers import RMSprop\n",
    "from tensorflow.keras.callbacks import ReduceLROnPlateau\n",
    "\n",
    "# Optimiseur RMSprop avec un taux d'apprentissage initial plus petit\n",
    "optimizer = RMSprop(learning_rate=0.001)\n",
    "\n",
    "# Réduire le taux d'apprentissage si la validation loss stagne\n",
    "lr_scheduler = ReduceLROnPlateau(monitor='val_loss', patience=3, factor=0.5, verbose=1)\n",
    "\n",
    "# Compilation du modèle\n",
    "cnn_model_deep.compile(optimizer=optimizer, loss='categorical_crossentropy', metrics=['accuracy'])\n"
   ]
  },
  {
   "cell_type": "code",
   "execution_count": 19,
   "id": "a5eb59ec",
   "metadata": {},
   "outputs": [
    {
     "name": "stdout",
     "output_type": "stream",
     "text": [
      "Epoch 1/10\n",
      "1875/1875 [==============================] - 83s 43ms/step - loss: 0.0172 - accuracy: 0.9952 - val_loss: 0.0503 - val_accuracy: 0.9910 - lr: 0.0010\n",
      "Epoch 2/10\n",
      "1875/1875 [==============================] - 78s 42ms/step - loss: 0.0154 - accuracy: 0.9949 - val_loss: 0.0520 - val_accuracy: 0.9901 - lr: 0.0010\n",
      "Epoch 3/10\n",
      "1875/1875 [==============================] - 83s 44ms/step - loss: 0.0148 - accuracy: 0.9957 - val_loss: 0.0617 - val_accuracy: 0.9901 - lr: 0.0010\n",
      "Epoch 4/10\n",
      "1874/1875 [============================>.] - ETA: 0s - loss: 0.0135 - accuracy: 0.9962\n",
      "Epoch 4: ReduceLROnPlateau reducing learning rate to 0.0005000000237487257.\n",
      "1875/1875 [==============================] - 74s 40ms/step - loss: 0.0135 - accuracy: 0.9962 - val_loss: 0.0619 - val_accuracy: 0.9902 - lr: 0.0010\n",
      "Epoch 5/10\n",
      "1875/1875 [==============================] - 74s 39ms/step - loss: 0.0085 - accuracy: 0.9976 - val_loss: 0.0673 - val_accuracy: 0.9907 - lr: 5.0000e-04\n",
      "Epoch 6/10\n",
      "1875/1875 [==============================] - 75s 40ms/step - loss: 0.0083 - accuracy: 0.9977 - val_loss: 0.0652 - val_accuracy: 0.9904 - lr: 5.0000e-04\n",
      "Epoch 7/10\n",
      "1874/1875 [============================>.] - ETA: 0s - loss: 0.0059 - accuracy: 0.9984\n",
      "Epoch 7: ReduceLROnPlateau reducing learning rate to 0.0002500000118743628.\n",
      "1875/1875 [==============================] - 82s 43ms/step - loss: 0.0059 - accuracy: 0.9984 - val_loss: 0.0811 - val_accuracy: 0.9905 - lr: 5.0000e-04\n",
      "Epoch 8/10\n",
      "1875/1875 [==============================] - 78s 42ms/step - loss: 0.0043 - accuracy: 0.9987 - val_loss: 0.0704 - val_accuracy: 0.9907 - lr: 2.5000e-04\n",
      "Epoch 9/10\n",
      "1875/1875 [==============================] - 82s 44ms/step - loss: 0.0044 - accuracy: 0.9988 - val_loss: 0.0691 - val_accuracy: 0.9918 - lr: 2.5000e-04\n",
      "Epoch 10/10\n",
      "1875/1875 [==============================] - ETA: 0s - loss: 0.0043 - accuracy: 0.9988\n",
      "Epoch 10: ReduceLROnPlateau reducing learning rate to 0.0001250000059371814.\n",
      "1875/1875 [==============================] - 84s 45ms/step - loss: 0.0043 - accuracy: 0.9988 - val_loss: 0.0685 - val_accuracy: 0.9911 - lr: 2.5000e-04\n"
     ]
    }
   ],
   "source": [
    "# Entraînement avec le scheduler\n",
    "history = cnn_model_deep.fit(x_train, y_train, epochs=10, validation_data=(x_test, y_test), \n",
    "                             batch_size=32, callbacks=[lr_scheduler])"
   ]
  },
  {
   "cell_type": "code",
   "execution_count": 20,
   "id": "2a7f383a",
   "metadata": {},
   "outputs": [
    {
     "data": {
      "image/png": "[encoded data removed]",
      "text/plain": [
       "<Figure size 864x432 with 2 Axes>"
      ]
     },
     "metadata": {
      "needs_background": "light"
     },
     "output_type": "display_data"
    }
   ],
   "source": [
    "# Récupération des données d'historique de l'entraînement\n",
    "accuracy = history.history['accuracy']\n",
    "val_accuracy = history.history['val_accuracy']\n",
    "loss = history.history['loss']\n",
    "val_loss = history.history['val_loss']\n",
    "epochs_range = range(1, len(accuracy) + 1)\n",
    "\n",
    "# Création des graphiques\n",
    "plt.figure(figsize=(12, 6))\n",
    "\n",
    "# Graphique de la précision\n",
    "plt.subplot(1, 2, 1)\n",
    "plt.plot(epochs_range, accuracy, label='Training Accuracy')\n",
    "plt.plot(epochs_range, val_accuracy, label='Validation Accuracy')\n",
    "plt.title('Training and Validation Accuracy')\n",
    "plt.xlabel('Epochs')\n",
    "plt.ylabel('Accuracy')\n",
    "plt.legend()\n",
    "\n",
    "# Graphique de la perte\n",
    "plt.subplot(1, 2, 2)\n",
    "plt.plot(epochs_range, loss, label='Training Loss')\n",
    "plt.plot(epochs_range, val_loss, label='Validation Loss')\n",
    "plt.title('Training and Validation Loss')\n",
    "plt.xlabel('Epochs')\n",
    "plt.ylabel('Loss')\n",
    "plt.legend()\n",
    "\n",
    "plt.tight_layout()\n",
    "plt.show()\n"
   ]
  },
  {
   "cell_type": "code",
   "execution_count": 21,
   "id": "98867773",
   "metadata": {},
   "outputs": [
    {
     "name": "stdout",
     "output_type": "stream",
     "text": [
      "Test Loss : 0.0685\n",
      "Test Accuracy : 0.9911\n"
     ]
    }
   ],
   "source": [
    "score = cnn_model_deep.evaluate(x_test,y_test,verbose=0)\n",
    "print('Test Loss : {:.4f}'.format(score[0]))\n",
    "print('Test Accuracy : {:.4f}'.format(score[1]))"
   ]
  },
  {
   "cell_type": "code",
   "execution_count": 22,
   "id": "17db50b6",
   "metadata": {},
   "outputs": [
    {
     "name": "stdout",
     "output_type": "stream",
     "text": [
      "313/313 [==============================] - 4s 13ms/step\n",
      "Rapport de classification :\n",
      "               precision    recall  f1-score   support\n",
      "\n",
      "           0       0.99      0.99      0.99       980\n",
      "           1       0.99      1.00      1.00      1135\n",
      "           2       0.98      0.99      0.99      1032\n",
      "           3       0.99      1.00      0.99      1010\n",
      "           4       0.99      0.99      0.99       982\n",
      "           5       0.99      0.99      0.99       892\n",
      "           6       1.00      0.99      0.99       958\n",
      "           7       0.99      0.98      0.98      1028\n",
      "           8       0.99      0.99      0.99       974\n",
      "           9       0.99      0.99      0.99      1009\n",
      "\n",
      "    accuracy                           0.99     10000\n",
      "   macro avg       0.99      0.99      0.99     10000\n",
      "weighted avg       0.99      0.99      0.99     10000\n",
      "\n"
     ]
    }
   ],
   "source": [
    "# Faire des prédictions sur le jeu de test\n",
    "y_pred_deep = cnn_model_deep.predict(x_test)\n",
    "\n",
    "# Convertion des prédictions et les étiquettes de test du format one-hot à des entiers\n",
    "y_pred_classes = np.argmax(y_pred_deep, axis=1)\n",
    "y_test_classes = np.argmax(y_test, axis=1)\n",
    "\n",
    "# Générer le rapport de classification\n",
    "report = classification_report(y_test_classes, y_pred_classes, target_names=[str(i) for i in range(10)])\n",
    "\n",
    "# Affichage du rapport de classification\n",
    "print(\"Rapport de classification :\\n\", report)"
   ]
  },
  {
   "cell_type": "markdown",
   "id": "c0556d98",
   "metadata": {},
   "source": [
    "### 6.3 Utilisation du Batch Normalization"
   ]
  },
  {
   "cell_type": "code",
   "execution_count": 23,
   "id": "ff2366be",
   "metadata": {},
   "outputs": [],
   "source": [
    "from tensorflow.keras.layers import BatchNormalization\n",
    "\n",
    "# Modèle CNN avec Batch Normalization\n",
    "cnn_model_bn = Sequential([\n",
    "    Conv2D(32, kernel_size=3, activation='relu', input_shape=image_shape),\n",
    "    BatchNormalization(),  # Ajout de Batch Normalization\n",
    "    MaxPooling2D(pool_size=2),\n",
    "    \n",
    "    Conv2D(64, kernel_size=3, activation='relu'),\n",
    "    BatchNormalization(),  # Ajout de Batch Normalization\n",
    "    MaxPooling2D(pool_size=2),\n",
    "    \n",
    "    Dropout(0.3),\n",
    "    Flatten(),\n",
    "    \n",
    "    Dense(128, activation='relu'),\n",
    "    BatchNormalization(),  # Ajout de Batch Normalization\n",
    "    Dense(10, activation='softmax')\n",
    "])"
   ]
  },
  {
   "cell_type": "code",
   "execution_count": 24,
   "id": "ef211fcb",
   "metadata": {},
   "outputs": [],
   "source": [
    "# Compilation du modèle\n",
    "cnn_model_bn.compile(optimizer='adam', loss='categorical_crossentropy', metrics=['accuracy'])"
   ]
  },
  {
   "cell_type": "code",
   "execution_count": 25,
   "id": "62198ab0",
   "metadata": {},
   "outputs": [
    {
     "name": "stdout",
     "output_type": "stream",
     "text": [
      "Model: \"sequential_2\"\n",
      "_________________________________________________________________\n",
      " Layer (type)                Output Shape              Param #   \n",
      "=================================================================\n",
      " conv2d_4 (Conv2D)           (None, 26, 26, 32)        320       \n",
      "                                                                 \n",
      " batch_normalization (BatchN  (None, 26, 26, 32)       128       \n",
      " ormalization)                                                   \n",
      "                                                                 \n",
      " max_pooling2d_4 (MaxPooling  (None, 13, 13, 32)       0         \n",
      " 2D)                                                             \n",
      "                                                                 \n",
      " conv2d_5 (Conv2D)           (None, 11, 11, 64)        18496     \n",
      "                                                                 \n",
      " batch_normalization_1 (Batc  (None, 11, 11, 64)       256       \n",
      " hNormalization)                                                 \n",
      "                                                                 \n",
      " max_pooling2d_5 (MaxPooling  (None, 5, 5, 64)         0         \n",
      " 2D)                                                             \n",
      "                                                                 \n",
      " dropout_2 (Dropout)         (None, 5, 5, 64)          0         \n",
      "                                                                 \n",
      " flatten_2 (Flatten)         (None, 1600)              0         \n",
      "                                                                 \n",
      " dense_4 (Dense)             (None, 128)               204928    \n",
      "                                                                 \n",
      " batch_normalization_2 (Batc  (None, 128)              512       \n",
      " hNormalization)                                                 \n",
      "                                                                 \n",
      " dense_5 (Dense)             (None, 10)                1290      \n",
      "                                                                 \n",
      "=================================================================\n",
      "Total params: 225,930\n",
      "Trainable params: 225,482\n",
      "Non-trainable params: 448\n",
      "_________________________________________________________________\n"
     ]
    }
   ],
   "source": [
    "cnn_model_bn.summary()"
   ]
  },
  {
   "cell_type": "code",
   "execution_count": 26,
   "id": "e2f33906",
   "metadata": {},
   "outputs": [
    {
     "name": "stdout",
     "output_type": "stream",
     "text": [
      "Epoch 1/10\n",
      "1875/1875 [==============================] - 98s 51ms/step - loss: 0.1151 - accuracy: 0.9649 - val_loss: 0.0482 - val_accuracy: 0.9847\n",
      "Epoch 2/10\n",
      "1875/1875 [==============================] - 93s 50ms/step - loss: 0.0519 - accuracy: 0.9842 - val_loss: 0.0353 - val_accuracy: 0.9884\n",
      "Epoch 3/10\n",
      "1875/1875 [==============================] - 110s 58ms/step - loss: 0.0402 - accuracy: 0.9875 - val_loss: 0.0295 - val_accuracy: 0.9906\n",
      "Epoch 4/10\n",
      "1875/1875 [==============================] - 96s 51ms/step - loss: 0.0308 - accuracy: 0.9901 - val_loss: 0.0263 - val_accuracy: 0.9909\n",
      "Epoch 5/10\n",
      "1875/1875 [==============================] - 92s 49ms/step - loss: 0.0279 - accuracy: 0.9912 - val_loss: 0.0263 - val_accuracy: 0.9912\n",
      "Epoch 6/10\n",
      "1875/1875 [==============================] - 94s 50ms/step - loss: 0.0224 - accuracy: 0.9925 - val_loss: 0.0259 - val_accuracy: 0.9918\n",
      "Epoch 7/10\n",
      "1875/1875 [==============================] - 103s 55ms/step - loss: 0.0206 - accuracy: 0.9936 - val_loss: 0.0303 - val_accuracy: 0.9912\n",
      "Epoch 8/10\n",
      "1875/1875 [==============================] - 119s 63ms/step - loss: 0.0171 - accuracy: 0.9942 - val_loss: 0.0245 - val_accuracy: 0.9924\n",
      "Epoch 9/10\n",
      "1875/1875 [==============================] - 90s 48ms/step - loss: 0.0157 - accuracy: 0.9949 - val_loss: 0.0210 - val_accuracy: 0.9933\n",
      "Epoch 10/10\n",
      "1875/1875 [==============================] - 110s 59ms/step - loss: 0.0142 - accuracy: 0.9954 - val_loss: 0.0217 - val_accuracy: 0.9933\n"
     ]
    }
   ],
   "source": [
    "# Entraînement\n",
    "history_bn = cnn_model_bn.fit(x_train, y_train, epochs=10, validation_data=(x_test, y_test), batch_size=32)"
   ]
  },
  {
   "cell_type": "code",
   "execution_count": 27,
   "id": "7f5d0623",
   "metadata": {},
   "outputs": [
    {
     "data": {
      "image/png": "[encoded data removed]",
      "text/plain": [
       "<Figure size 864x432 with 2 Axes>"
      ]
     },
     "metadata": {
      "needs_background": "light"
     },
     "output_type": "display_data"
    }
   ],
   "source": [
    "# Récupération des données d'historique de l'entraînement\n",
    "accuracy = history_bn.history['accuracy']\n",
    "val_accuracy = history_bn.history['val_accuracy']\n",
    "loss = history_bn.history['loss']\n",
    "val_loss = history_bn.history['val_loss']\n",
    "epochs_range = range(1, len(accuracy) + 1)\n",
    "\n",
    "# Création des graphiques\n",
    "plt.figure(figsize=(12, 6))\n",
    "\n",
    "# Graphique de la précision\n",
    "plt.subplot(1, 2, 1)\n",
    "plt.plot(epochs_range, accuracy, label='Training Accuracy')\n",
    "plt.plot(epochs_range, val_accuracy, label='Validation Accuracy')\n",
    "plt.title('Training and Validation Accuracy')\n",
    "plt.xlabel('Epochs')\n",
    "plt.ylabel('Accuracy')\n",
    "plt.legend()\n",
    "\n",
    "# Graphique de la perte\n",
    "plt.subplot(1, 2, 2)\n",
    "plt.plot(epochs_range, loss, label='Training Loss')\n",
    "plt.plot(epochs_range, val_loss, label='Validation Loss')\n",
    "plt.title('Training and Validation Loss')\n",
    "plt.xlabel('Epochs')\n",
    "plt.ylabel('Loss')\n",
    "plt.legend()\n",
    "\n",
    "plt.tight_layout()\n",
    "plt.show()\n"
   ]
  },
  {
   "cell_type": "code",
   "execution_count": 28,
   "id": "ab2cb676",
   "metadata": {},
   "outputs": [
    {
     "name": "stdout",
     "output_type": "stream",
     "text": [
      "Test Loss : 0.0217\n",
      "Test Accuracy : 0.9933\n"
     ]
    }
   ],
   "source": [
    "score = cnn_model_bn.evaluate(x_test,y_test,verbose=0)\n",
    "print('Test Loss : {:.4f}'.format(score[0]))\n",
    "print('Test Accuracy : {:.4f}'.format(score[1]))"
   ]
  },
  {
   "cell_type": "code",
   "execution_count": 29,
   "id": "84f71e17",
   "metadata": {},
   "outputs": [
    {
     "name": "stdout",
     "output_type": "stream",
     "text": [
      "313/313 [==============================] - 5s 15ms/step\n",
      "Rapport de classification :\n",
      "               precision    recall  f1-score   support\n",
      "\n",
      "           0       0.99      1.00      0.99       980\n",
      "           1       0.99      1.00      1.00      1135\n",
      "           2       0.99      1.00      0.99      1032\n",
      "           3       1.00      0.99      0.99      1010\n",
      "           4       0.99      1.00      0.99       982\n",
      "           5       0.99      0.99      0.99       892\n",
      "           6       1.00      0.99      1.00       958\n",
      "           7       0.99      0.99      0.99      1028\n",
      "           8       1.00      0.99      0.99       974\n",
      "           9       0.99      0.99      0.99      1009\n",
      "\n",
      "    accuracy                           0.99     10000\n",
      "   macro avg       0.99      0.99      0.99     10000\n",
      "weighted avg       0.99      0.99      0.99     10000\n",
      "\n"
     ]
    }
   ],
   "source": [
    "# Faire des prédictions sur le jeu de test\n",
    "y_pred_bn = cnn_model_bn.predict(x_test)\n",
    "\n",
    "# Convertion des prédictions et les étiquettes de test du format one-hot à des entiers\n",
    "y_pred_classes = np.argmax(y_pred_bn, axis=1)\n",
    "y_test_classes = np.argmax(y_test, axis=1)\n",
    "\n",
    "# Générer le rapport de classification\n",
    "report = classification_report(y_test_classes, y_pred_classes, target_names=[str(i) for i in range(10)])\n",
    "\n",
    "# Affichage du rapport de classification\n",
    "print(\"Rapport de classification :\\n\", report)"
   ]
  },
  {
   "cell_type": "markdown",
   "id": "27249323",
   "metadata": {},
   "source": [
    "En conclusion, j'ai testé plusieurs techniques  pour améliorer la performance du modèle CNN sur la classification des images. L'augmentation de la profondeur du réseau a permis d'atteindre une précision de 98,98 %. L'optimiseur RMSprop avec un *learning rate scheduler* a amélioré la précision à 99,11 % mais a entrainé un énorme surapprentissage. L'ajout de la normalisation par lot (*Batch Normalization*) a encore amélioré les résultats, obtenant une précision de 99,33 % avec une perte de test réduite. Ces améliorations montrent que la régularisation, l'optimisation avancée et des architectures plus profondes peuvent significativement affiner la performance d'un modèle CNN."
   ]
  },
  {
   "cell_type": "code",
   "execution_count": null,
   "id": "64df50d0",
   "metadata": {},
   "outputs": [],
   "source": []
  }
 ],
 "metadata": {
  "kernelspec": {
   "display_name": "Python 3 (ipykernel)",
   "language": "python",
   "name": "python3"
  },
  "language_info": {
   "codemirror_mode": {
    "name": "ipython",
    "version": 3
   },
   "file_extension": ".py",
   "mimetype": "text/x-python",
   "name": "python",
   "nbconvert_exporter": "python",
   "pygments_lexer": "ipython3",
   "version": "3.10.4"
  }
 },
 "nbformat": 4,
 "nbformat_minor": 5
}
